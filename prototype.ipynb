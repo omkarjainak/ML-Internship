{
  "nbformat": 4,
  "nbformat_minor": 0,
  "metadata": {
    "colab": {
      "provenance": []
    },
    "kernelspec": {
      "name": "python3",
      "display_name": "Python 3"
    },
    "language_info": {
      "name": "python"
    }
  },
  "cells": [
    {
      "cell_type": "code",
      "source": [
        "# Import libraries\n",
        "import pandas as pd\n",
        "import numpy as np\n",
        "from sklearn.model_selection import train_test_split\n",
        "from sklearn.ensemble import RandomForestRegressor, RandomForestClassifier\n",
        "from sklearn.metrics import mean_squared_error, classification_report\n",
        "from sklearn.cluster import KMeans\n",
        "from sklearn.preprocessing import StandardScaler\n",
        "\n",
        "# Create a synthetic property dataset with 500 entries\n",
        "def create_property_data(num_entries=500):\n",
        "    np.random.seed(42)  # For reproducibility\n",
        "    locations = ['Downtown', 'Suburb', 'Countryside', 'Pune']\n",
        "    amenities = ['wifi', 'gym', 'pool', 'parking', 'pet_friendly']\n",
        "\n",
        "    data = {\n",
        "        'title': [f'Property {i+1}' for i in range(num_entries)],\n",
        "        'location': np.random.choice(locations, num_entries),\n",
        "        'size': np.random.randint(500, 3000, num_entries),  # Size in square feet\n",
        "        'amenities_count': np.random.randint(1, 5, num_entries),\n",
        "        'price': np.random.randint(1000, 4000, num_entries),  # Monthly rent\n",
        "        'amenities': [\n",
        "            np.random.choice(amenities, np.random.randint(1, len(amenities) + 1), replace=False).tolist()\n",
        "            for _ in range(num_entries)\n",
        "        ]\n",
        "    }\n",
        "    return pd.DataFrame(data)\n",
        "\n",
        "# Load the dataset\n",
        "properties_df = create_property_data(500)\n",
        "print(\"Property Dataset (First 10 Rows):\")\n",
        "print(properties_df.head(10))\n",
        "\n",
        "\n",
        "\n"
      ],
      "metadata": {
        "colab": {
          "base_uri": "https://localhost:8080/"
        },
        "id": "9QmZZGD4finY",
        "outputId": "278cd494-075c-4908-ed19-c6b1c195a7ba"
      },
      "execution_count": 6,
      "outputs": [
        {
          "output_type": "stream",
          "name": "stdout",
          "text": [
            "Property Dataset (First 10 Rows):\n",
            "         title     location  size  amenities_count  price  \\\n",
            "0   Property 1  Countryside   690                4   3679   \n",
            "1   Property 2         Pune  2800                3   3106   \n",
            "2   Property 3     Downtown  1480                1   1127   \n",
            "3   Property 4  Countryside  2506                3   1735   \n",
            "4   Property 5  Countryside  1684                3   3768   \n",
            "5   Property 6         Pune   627                3   3573   \n",
            "6   Property 7     Downtown  2565                3   1520   \n",
            "7   Property 8     Downtown  2316                4   3599   \n",
            "8   Property 9  Countryside  2258                1   1236   \n",
            "9  Property 10       Suburb  1069                4   2304   \n",
            "\n",
            "                                  amenities  \n",
            "0                                    [wifi]  \n",
            "1                                    [pool]  \n",
            "2           [pet_friendly, pool, gym, wifi]  \n",
            "3                      [pool, pet_friendly]  \n",
            "4                                    [pool]  \n",
            "5  [pool, wifi, pet_friendly, gym, parking]  \n",
            "6                              [wifi, pool]  \n",
            "7                   [parking, pet_friendly]  \n",
            "8                      [wifi, gym, parking]  \n",
            "9                            [pet_friendly]  \n"
          ]
        }
      ]
    },
    {
      "cell_type": "code",
      "source": [
        "\n",
        "# Price Prediction Model\n",
        "def price_prediction_model(df):\n",
        "    # Prepare data\n",
        "    X = df[['size', 'amenities_count']]\n",
        "    y = df['price']\n",
        "\n",
        "    # Train-test split\n",
        "    X_train, X_test, y_train, y_test = train_test_split(X, y, test_size=0.2, random_state=42)\n",
        "\n",
        "    # Train the model\n",
        "    model = RandomForestRegressor()\n",
        "    model.fit(X_train, y_train)\n",
        "\n",
        "    # Predictions\n",
        "    predictions = model.predict(X_test)\n",
        "\n",
        "    # Evaluate the model\n",
        "    mse = mean_squared_error(y_test, predictions)\n",
        "    print(f'Mean Squared Error for Price Prediction: {mse:.2f}')\n",
        "\n",
        "price_prediction_model(properties_df)"
      ],
      "metadata": {
        "colab": {
          "base_uri": "https://localhost:8080/"
        },
        "id": "6u8GSMSihfFz",
        "outputId": "ed123864-aa9a-4c70-98ef-04d40ac477bf"
      },
      "execution_count": 7,
      "outputs": [
        {
          "output_type": "stream",
          "name": "stdout",
          "text": [
            "Mean Squared Error for Price Prediction: 974606.84\n"
          ]
        }
      ]
    },
    {
      "cell_type": "code",
      "source": [
        "# Vacancy Prediction Model\n",
        "def vacancy_prediction_model(df):\n",
        "    # Prepare data\n",
        "    X = df[['size', 'price', 'amenities_count']]\n",
        "    y = df['vacant'] = np.random.choice([0, 1], len(df))  # Random vacancy status for demonstration\n",
        "\n",
        "    # Train-test split\n",
        "    X_train, X_test, y_train, y_test = train_test_split(X, y, test_size=0.2, random_state=42)\n",
        "\n",
        "    # Train the model\n",
        "    model = RandomForestClassifier()\n",
        "    model.fit(X_train, y_train)\n",
        "\n",
        "    # Predictions\n",
        "    predictions = model.predict(X_test)\n",
        "\n",
        "    # Evaluate the model\n",
        "    print(classification_report(y_test, predictions))\n",
        "\n",
        "vacancy_prediction_model(properties_df)\n",
        "\n",
        "\n"
      ],
      "metadata": {
        "colab": {
          "base_uri": "https://localhost:8080/"
        },
        "id": "yeoKJsZ0hYuW",
        "outputId": "8c2b7cdd-3963-43be-e169-e0eb8c6a9988"
      },
      "execution_count": 8,
      "outputs": [
        {
          "output_type": "stream",
          "name": "stdout",
          "text": [
            "              precision    recall  f1-score   support\n",
            "\n",
            "           0       0.51      0.57      0.54        54\n",
            "           1       0.41      0.35      0.38        46\n",
            "\n",
            "    accuracy                           0.47       100\n",
            "   macro avg       0.46      0.46      0.46       100\n",
            "weighted avg       0.46      0.47      0.46       100\n",
            "\n"
          ]
        }
      ]
    },
    {
      "cell_type": "code",
      "source": [
        "\n",
        "# Property Recommendation Model\n",
        "def recommend_properties(user_preferences, properties_df):\n",
        "    # Filter based on user preferences\n",
        "    filtered_properties = properties_df[\n",
        "        (properties_df['price'] <= user_preferences['budget']) &\n",
        "        (properties_df['location'] == user_preferences['location'])\n",
        "    ]\n",
        "\n",
        "    # Define a scoring function based on amenities match\n",
        "    user_amenities_set = set(user_preferences['amenities'])\n",
        "\n",
        "    def score_property(row):\n",
        "        property_amenities_set = set(row['amenities'])\n",
        "        return len(user_amenities_set.intersection(property_amenities_set))\n",
        "\n",
        "    # Apply scoring function\n",
        "    filtered_properties['score'] = filtered_properties.apply(score_property, axis=1)\n",
        "\n",
        "    # Sort by score (more matches = higher score)\n",
        "    recommended = filtered_properties.sort_values(by='score', ascending=False)\n",
        "\n",
        "    return recommended[['title', 'location', 'price', 'amenities', 'score']]\n",
        "\n",
        "# Example user preferences\n",
        "user_preferences = {\n",
        "    'budget': 2500,\n",
        "    'location': 'Pune',\n",
        "    'amenities': ['wifi', 'gym']  # User's preferred amenities\n",
        "}\n",
        "\n",
        "# Get recommendations\n",
        "recommended_properties = recommend_properties(user_preferences, properties_df)\n",
        "print(\"\\nRecommended Properties:\")\n",
        "print(recommended_properties.head(10))\n"
      ],
      "metadata": {
        "colab": {
          "base_uri": "https://localhost:8080/"
        },
        "id": "Hix2UDaXhTUu",
        "outputId": "254b331c-a2b2-4685-ecb1-6dbd39a8bbb1"
      },
      "execution_count": 9,
      "outputs": [
        {
          "output_type": "stream",
          "name": "stdout",
          "text": [
            "\n",
            "Recommended Properties:\n",
            "            title location  price                                 amenities  \\\n",
            "393  Property 394     Pune   1284        [wifi, gym, parking, pet_friendly]   \n",
            "341  Property 342     Pune   1588           [gym, pet_friendly, wifi, pool]   \n",
            "233  Property 234     Pune   1884  [pool, parking, pet_friendly, wifi, gym]   \n",
            "232  Property 233     Pune   2333  [pool, wifi, parking, pet_friendly, gym]   \n",
            "312  Property 313     Pune   1215  [gym, pool, wifi, pet_friendly, parking]   \n",
            "350  Property 351     Pune   2256                      [parking, gym, wifi]   \n",
            "143  Property 144     Pune   1989                [pool, wifi, gym, parking]   \n",
            "149  Property 150     Pune   2296  [pool, gym, parking, pet_friendly, wifi]   \n",
            "162  Property 163     Pune   2372  [gym, pet_friendly, parking, wifi, pool]   \n",
            "206  Property 207     Pune   1292        [parking, gym, pet_friendly, wifi]   \n",
            "\n",
            "     score  \n",
            "393      2  \n",
            "341      2  \n",
            "233      2  \n",
            "232      2  \n",
            "312      2  \n",
            "350      2  \n",
            "143      2  \n",
            "149      2  \n",
            "162      2  \n",
            "206      2  \n"
          ]
        },
        {
          "output_type": "stream",
          "name": "stderr",
          "text": [
            "<ipython-input-9-fbb29e0e7447>:17: SettingWithCopyWarning: \n",
            "A value is trying to be set on a copy of a slice from a DataFrame.\n",
            "Try using .loc[row_indexer,col_indexer] = value instead\n",
            "\n",
            "See the caveats in the documentation: https://pandas.pydata.org/pandas-docs/stable/user_guide/indexing.html#returning-a-view-versus-a-copy\n",
            "  filtered_properties['score'] = filtered_properties.apply(score_property, axis=1)\n"
          ]
        }
      ]
    },
    {
      "cell_type": "code",
      "source": [
        "def clustering_model(properties_df):\n",
        "    # Preparing the data for clustering\n",
        "    feature_cols = ['size', 'price', 'amenities_count']\n",
        "    X = properties_df[feature_cols]\n",
        "\n",
        "    # Standardizing the data\n",
        "    scaler = StandardScaler()\n",
        "    X_scaled = scaler.fit_transform(X)\n",
        "\n",
        "    # K-Means Clustering\n",
        "    kmeans = KMeans(n_clusters=3, random_state=42)  # Adjust n_clusters as needed\n",
        "    properties_df['cluster'] = kmeans.fit_predict(X_scaled)\n",
        "\n",
        "    return properties_df, kmeans # Return kmeans object along with the dataframe\n",
        "\n",
        "# Apply clustering\n",
        "clustered_properties, kmeans = clustering_model(properties_df) # Get kmeans object\n",
        "print(\"\\nClustered Property Dataset (First 10 Rows):\")\n",
        "print(clustered_properties.head(10))\n"
      ],
      "metadata": {
        "colab": {
          "base_uri": "https://localhost:8080/"
        },
        "id": "Da48TAqihQmq",
        "outputId": "43e0e4cb-2d1b-4768-d2eb-18c5f495b15b"
      },
      "execution_count": 10,
      "outputs": [
        {
          "output_type": "stream",
          "name": "stdout",
          "text": [
            "\n",
            "Clustered Property Dataset (First 10 Rows):\n",
            "         title     location  size  amenities_count  price  \\\n",
            "0   Property 1  Countryside   690                4   3679   \n",
            "1   Property 2         Pune  2800                3   3106   \n",
            "2   Property 3     Downtown  1480                1   1127   \n",
            "3   Property 4  Countryside  2506                3   1735   \n",
            "4   Property 5  Countryside  1684                3   3768   \n",
            "5   Property 6         Pune   627                3   3573   \n",
            "6   Property 7     Downtown  2565                3   1520   \n",
            "7   Property 8     Downtown  2316                4   3599   \n",
            "8   Property 9  Countryside  2258                1   1236   \n",
            "9  Property 10       Suburb  1069                4   2304   \n",
            "\n",
            "                                  amenities  vacant  cluster  \n",
            "0                                    [wifi]       1        1  \n",
            "1                                    [pool]       0        2  \n",
            "2           [pet_friendly, pool, gym, wifi]       0        0  \n",
            "3                      [pool, pet_friendly]       0        2  \n",
            "4                                    [pool]       1        1  \n",
            "5  [pool, wifi, pet_friendly, gym, parking]       1        1  \n",
            "6                              [wifi, pool]       1        2  \n",
            "7                   [parking, pet_friendly]       0        1  \n",
            "8                      [wifi, gym, parking]       0        2  \n",
            "9                            [pet_friendly]       1        0  \n"
          ]
        }
      ]
    },
    {
      "cell_type": "code",
      "source": [
        "# Function to recommend properties based on cluster\n",
        "def cluster_based_recommendations(user_preferences, clustered_properties, kmeans): # Pass kmeans as argument\n",
        "    # Filter properties in the same cluster as the user's preferences\n",
        "    user_features = np.array([[user_preferences['size'], user_preferences['budget'], len(user_preferences['amenities'])]])\n",
        "    user_features_scaled = StandardScaler().fit_transform(user_features)\n",
        "\n",
        "    user_cluster = kmeans.predict(user_features_scaled)[0]\n",
        "\n",
        "    recommended = clustered_properties[clustered_properties['cluster'] == user_cluster]\n",
        "\n",
        "    return recommended[['title', 'location', 'price', 'amenities', 'cluster']]\n",
        "\n",
        "# Example user preferences for clustering recommendations\n",
        "user_clustering_preferences = {\n",
        "    'size': 1500,\n",
        "    'budget': 2500,\n",
        "    'amenities': ['wifi', 'gym']  # User's preferred amenities\n",
        "}\n",
        "\n",
        "# Get cluster-based recommendations\n",
        "cluster_recommendations = cluster_based_recommendations(user_clustering_preferences, clustered_properties, kmeans) # Pass kmeans object\n",
        "print(\"\\nCluster-Based Recommended Properties:\")\n",
        "print(cluster_recommendations.head(10))"
      ],
      "metadata": {
        "colab": {
          "base_uri": "https://localhost:8080/"
        },
        "id": "PCmV7gmefzRA",
        "outputId": "b9b375e5-baaf-4721-86eb-a95fb9ee8536"
      },
      "execution_count": 11,
      "outputs": [
        {
          "output_type": "stream",
          "name": "stdout",
          "text": [
            "\n",
            "Cluster-Based Recommended Properties:\n",
            "          title     location  price                                 amenities  \\\n",
            "1    Property 2         Pune   3106                                    [pool]   \n",
            "3    Property 4  Countryside   1735                      [pool, pet_friendly]   \n",
            "6    Property 7     Downtown   1520                              [wifi, pool]   \n",
            "8    Property 9  Countryside   1236                      [wifi, gym, parking]   \n",
            "11  Property 12  Countryside   2301        [gym, wifi, parking, pet_friendly]   \n",
            "13  Property 14  Countryside   3051                            [parking, gym]   \n",
            "18  Property 19         Pune   1804                [wifi, pool, pet_friendly]   \n",
            "19  Property 20  Countryside   1074                         [gym, pool, wifi]   \n",
            "21  Property 22     Downtown   3175  [parking, wifi, pool, gym, pet_friendly]   \n",
            "22  Property 23       Suburb   3089                                    [pool]   \n",
            "\n",
            "    cluster  \n",
            "1         2  \n",
            "3         2  \n",
            "6         2  \n",
            "8         2  \n",
            "11        2  \n",
            "13        2  \n",
            "18        2  \n",
            "19        2  \n",
            "21        2  \n",
            "22        2  \n"
          ]
        }
      ]
    },
    {
      "cell_type": "code",
      "source": [],
      "metadata": {
        "id": "jwu3f-EkhmBn"
      },
      "execution_count": null,
      "outputs": []
    }
  ]
}